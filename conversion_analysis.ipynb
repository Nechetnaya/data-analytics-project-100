{
 "cells": [
  {
   "cell_type": "code",
   "execution_count": 1,
   "id": "b46b59dd",
   "metadata": {},
   "outputs": [],
   "source": [
    "import pandas as pd\n",
    "import requests"
   ]
  },
  {
   "cell_type": "code",
   "execution_count": 19,
   "id": "f8483a2e",
   "metadata": {},
   "outputs": [],
   "source": [
    "r = requests.get('https://data-charts-api.hexlet.app/visits?begin=2023-03-01&end=2023-09-01')"
   ]
  },
  {
   "cell_type": "code",
   "execution_count": 21,
   "id": "1a4952de",
   "metadata": {},
   "outputs": [
    {
     "data": {
      "text/plain": [
       "200"
      ]
     },
     "execution_count": 21,
     "metadata": {},
     "output_type": "execute_result"
    }
   ],
   "source": [
    "r.status_code"
   ]
  },
  {
   "cell_type": "code",
   "execution_count": 24,
   "id": "4d325883",
   "metadata": {},
   "outputs": [],
   "source": [
    "visits = pd.DataFrame(r.json())"
   ]
  },
  {
   "cell_type": "code",
   "execution_count": 25,
   "id": "ffcdd5bb",
   "metadata": {
    "scrolled": true
   },
   "outputs": [
    {
     "data": {
      "text/html": [
       "<div>\n",
       "<style scoped>\n",
       "    .dataframe tbody tr th:only-of-type {\n",
       "        vertical-align: middle;\n",
       "    }\n",
       "\n",
       "    .dataframe tbody tr th {\n",
       "        vertical-align: top;\n",
       "    }\n",
       "\n",
       "    .dataframe thead th {\n",
       "        text-align: right;\n",
       "    }\n",
       "</style>\n",
       "<table border=\"1\" class=\"dataframe\">\n",
       "  <thead>\n",
       "    <tr style=\"text-align: right;\">\n",
       "      <th></th>\n",
       "      <th>datetime</th>\n",
       "      <th>platform</th>\n",
       "      <th>user_agent</th>\n",
       "      <th>visit_id</th>\n",
       "    </tr>\n",
       "  </thead>\n",
       "  <tbody>\n",
       "    <tr>\n",
       "      <th>0</th>\n",
       "      <td>Wed, 01 Mar 2023 10:36:22 GMT</td>\n",
       "      <td>web</td>\n",
       "      <td>Mozilla/5.0 (Windows NT 10.0; Win64; x64) Appl...</td>\n",
       "      <td>1de9ea66-70d3-4a1f-8735-df5ef7697fb9</td>\n",
       "    </tr>\n",
       "    <tr>\n",
       "      <th>1</th>\n",
       "      <td>Wed, 01 Mar 2023 06:25:00 GMT</td>\n",
       "      <td>web</td>\n",
       "      <td>Mozilla/5.0 (Windows NT 10.0; WOW64; Trident/7...</td>\n",
       "      <td>f149f542-e935-4870-9734-6b4501eaf614</td>\n",
       "    </tr>\n",
       "    <tr>\n",
       "      <th>2</th>\n",
       "      <td>Wed, 01 Mar 2023 10:26:13 GMT</td>\n",
       "      <td>web</td>\n",
       "      <td>Mozilla/5.0 (Macintosh; Intel Mac OS X 10_11_2...</td>\n",
       "      <td>08f0ebd4-950c-4dd9-8e97-b5bdf073eed1</td>\n",
       "    </tr>\n",
       "    <tr>\n",
       "      <th>3</th>\n",
       "      <td>Wed, 01 Mar 2023 12:33:06 GMT</td>\n",
       "      <td>web</td>\n",
       "      <td>Mozilla/5.0 (Macintosh; Intel Mac OS X 10_15_7...</td>\n",
       "      <td>19322fed-157c-49c6-b16e-2d5cabeb9592</td>\n",
       "    </tr>\n",
       "    <tr>\n",
       "      <th>4</th>\n",
       "      <td>Wed, 01 Mar 2023 01:38:35 GMT</td>\n",
       "      <td>web</td>\n",
       "      <td>Mozilla/5.0 (Windows NT 10.0; Win64; x64) Appl...</td>\n",
       "      <td>04762a22-3c9f-40c9-9ac9-6628c4381836</td>\n",
       "    </tr>\n",
       "  </tbody>\n",
       "</table>\n",
       "</div>"
      ],
      "text/plain": [
       "                        datetime platform  \\\n",
       "0  Wed, 01 Mar 2023 10:36:22 GMT      web   \n",
       "1  Wed, 01 Mar 2023 06:25:00 GMT      web   \n",
       "2  Wed, 01 Mar 2023 10:26:13 GMT      web   \n",
       "3  Wed, 01 Mar 2023 12:33:06 GMT      web   \n",
       "4  Wed, 01 Mar 2023 01:38:35 GMT      web   \n",
       "\n",
       "                                          user_agent  \\\n",
       "0  Mozilla/5.0 (Windows NT 10.0; Win64; x64) Appl...   \n",
       "1  Mozilla/5.0 (Windows NT 10.0; WOW64; Trident/7...   \n",
       "2  Mozilla/5.0 (Macintosh; Intel Mac OS X 10_11_2...   \n",
       "3  Mozilla/5.0 (Macintosh; Intel Mac OS X 10_15_7...   \n",
       "4  Mozilla/5.0 (Windows NT 10.0; Win64; x64) Appl...   \n",
       "\n",
       "                               visit_id  \n",
       "0  1de9ea66-70d3-4a1f-8735-df5ef7697fb9  \n",
       "1  f149f542-e935-4870-9734-6b4501eaf614  \n",
       "2  08f0ebd4-950c-4dd9-8e97-b5bdf073eed1  \n",
       "3  19322fed-157c-49c6-b16e-2d5cabeb9592  \n",
       "4  04762a22-3c9f-40c9-9ac9-6628c4381836  "
      ]
     },
     "execution_count": 25,
     "metadata": {},
     "output_type": "execute_result"
    }
   ],
   "source": [
    "visits.head()"
   ]
  },
  {
   "cell_type": "code",
   "execution_count": 30,
   "id": "3cddcdb8",
   "metadata": {},
   "outputs": [
    {
     "data": {
      "text/plain": [
       "(263459, 4)"
      ]
     },
     "execution_count": 30,
     "metadata": {},
     "output_type": "execute_result"
    }
   ],
   "source": [
    "visits.shape"
   ]
  },
  {
   "cell_type": "code",
   "execution_count": 32,
   "id": "ba13d2c8",
   "metadata": {},
   "outputs": [
    {
     "data": {
      "text/html": [
       "<div>\n",
       "<style scoped>\n",
       "    .dataframe tbody tr th:only-of-type {\n",
       "        vertical-align: middle;\n",
       "    }\n",
       "\n",
       "    .dataframe tbody tr th {\n",
       "        vertical-align: top;\n",
       "    }\n",
       "\n",
       "    .dataframe thead th {\n",
       "        text-align: right;\n",
       "    }\n",
       "</style>\n",
       "<table border=\"1\" class=\"dataframe\">\n",
       "  <thead>\n",
       "    <tr style=\"text-align: right;\">\n",
       "      <th></th>\n",
       "      <th>datetime</th>\n",
       "      <th>platform</th>\n",
       "      <th>user_agent</th>\n",
       "      <th>visit_id</th>\n",
       "    </tr>\n",
       "  </thead>\n",
       "  <tbody>\n",
       "    <tr>\n",
       "      <th>count</th>\n",
       "      <td>263459</td>\n",
       "      <td>263459</td>\n",
       "      <td>263459</td>\n",
       "      <td>263459</td>\n",
       "    </tr>\n",
       "    <tr>\n",
       "      <th>unique</th>\n",
       "      <td>261204</td>\n",
       "      <td>4</td>\n",
       "      <td>32</td>\n",
       "      <td>146085</td>\n",
       "    </tr>\n",
       "    <tr>\n",
       "      <th>top</th>\n",
       "      <td>Thu, 06 Jul 2023 10:45:50 GMT</td>\n",
       "      <td>web</td>\n",
       "      <td>Mozilla/5.0 (X11; Ubuntu; Linux x86_64; rv:109...</td>\n",
       "      <td>64167edd-323a-4ab0-be9b-acd237a1ac30</td>\n",
       "    </tr>\n",
       "    <tr>\n",
       "      <th>freq</th>\n",
       "      <td>3</td>\n",
       "      <td>236301</td>\n",
       "      <td>13623</td>\n",
       "      <td>4</td>\n",
       "    </tr>\n",
       "  </tbody>\n",
       "</table>\n",
       "</div>"
      ],
      "text/plain": [
       "                             datetime platform  \\\n",
       "count                          263459   263459   \n",
       "unique                         261204        4   \n",
       "top     Thu, 06 Jul 2023 10:45:50 GMT      web   \n",
       "freq                                3   236301   \n",
       "\n",
       "                                               user_agent  \\\n",
       "count                                              263459   \n",
       "unique                                                 32   \n",
       "top     Mozilla/5.0 (X11; Ubuntu; Linux x86_64; rv:109...   \n",
       "freq                                                13623   \n",
       "\n",
       "                                    visit_id  \n",
       "count                                 263459  \n",
       "unique                                146085  \n",
       "top     64167edd-323a-4ab0-be9b-acd237a1ac30  \n",
       "freq                                       4  "
      ]
     },
     "execution_count": 32,
     "metadata": {},
     "output_type": "execute_result"
    }
   ],
   "source": [
    "visits.describe()"
   ]
  },
  {
   "cell_type": "code",
   "execution_count": 26,
   "id": "1316005f",
   "metadata": {},
   "outputs": [],
   "source": [
    "r = requests.get('https://data-charts-api.hexlet.app/registrations?begin=2023-03-01&end=2023-09-01')"
   ]
  },
  {
   "cell_type": "code",
   "execution_count": 27,
   "id": "6cae5e67",
   "metadata": {},
   "outputs": [
    {
     "data": {
      "text/plain": [
       "200"
      ]
     },
     "execution_count": 27,
     "metadata": {},
     "output_type": "execute_result"
    }
   ],
   "source": [
    "r.status_code"
   ]
  },
  {
   "cell_type": "code",
   "execution_count": 28,
   "id": "d0b0d5f3",
   "metadata": {},
   "outputs": [],
   "source": [
    "registrations = pd.DataFrame(r.json())"
   ]
  },
  {
   "cell_type": "code",
   "execution_count": 29,
   "id": "9c0984cd",
   "metadata": {},
   "outputs": [
    {
     "data": {
      "text/html": [
       "<div>\n",
       "<style scoped>\n",
       "    .dataframe tbody tr th:only-of-type {\n",
       "        vertical-align: middle;\n",
       "    }\n",
       "\n",
       "    .dataframe tbody tr th {\n",
       "        vertical-align: top;\n",
       "    }\n",
       "\n",
       "    .dataframe thead th {\n",
       "        text-align: right;\n",
       "    }\n",
       "</style>\n",
       "<table border=\"1\" class=\"dataframe\">\n",
       "  <thead>\n",
       "    <tr style=\"text-align: right;\">\n",
       "      <th></th>\n",
       "      <th>datetime</th>\n",
       "      <th>email</th>\n",
       "      <th>platform</th>\n",
       "      <th>registration_type</th>\n",
       "      <th>user_id</th>\n",
       "    </tr>\n",
       "  </thead>\n",
       "  <tbody>\n",
       "    <tr>\n",
       "      <th>0</th>\n",
       "      <td>Wed, 01 Mar 2023 07:40:13 GMT</td>\n",
       "      <td>ebyrd@example.org</td>\n",
       "      <td>web</td>\n",
       "      <td>google</td>\n",
       "      <td>2e0f6bb8-b029-4f45-a786-2b53990d37f1</td>\n",
       "    </tr>\n",
       "    <tr>\n",
       "      <th>1</th>\n",
       "      <td>Wed, 01 Mar 2023 13:14:00 GMT</td>\n",
       "      <td>knightgerald@example.org</td>\n",
       "      <td>web</td>\n",
       "      <td>email</td>\n",
       "      <td>f007f97c-9d8b-48b5-af08-119bb8f6d9b6</td>\n",
       "    </tr>\n",
       "    <tr>\n",
       "      <th>2</th>\n",
       "      <td>Wed, 01 Mar 2023 03:05:50 GMT</td>\n",
       "      <td>cherylthompson@example.com</td>\n",
       "      <td>web</td>\n",
       "      <td>apple</td>\n",
       "      <td>24ff46ae-32b3-4a74-8f27-7cf0b8f32f15</td>\n",
       "    </tr>\n",
       "    <tr>\n",
       "      <th>3</th>\n",
       "      <td>Wed, 01 Mar 2023 00:04:47 GMT</td>\n",
       "      <td>halldavid@example.org</td>\n",
       "      <td>web</td>\n",
       "      <td>email</td>\n",
       "      <td>3e9914e1-5d73-4c23-b25d-b59a3aeb2b60</td>\n",
       "    </tr>\n",
       "    <tr>\n",
       "      <th>4</th>\n",
       "      <td>Wed, 01 Mar 2023 18:31:52 GMT</td>\n",
       "      <td>denise86@example.net</td>\n",
       "      <td>web</td>\n",
       "      <td>google</td>\n",
       "      <td>27f875fc-f8ce-4aeb-8722-0ecb283d0760</td>\n",
       "    </tr>\n",
       "  </tbody>\n",
       "</table>\n",
       "</div>"
      ],
      "text/plain": [
       "                        datetime                       email platform  \\\n",
       "0  Wed, 01 Mar 2023 07:40:13 GMT           ebyrd@example.org      web   \n",
       "1  Wed, 01 Mar 2023 13:14:00 GMT    knightgerald@example.org      web   \n",
       "2  Wed, 01 Mar 2023 03:05:50 GMT  cherylthompson@example.com      web   \n",
       "3  Wed, 01 Mar 2023 00:04:47 GMT       halldavid@example.org      web   \n",
       "4  Wed, 01 Mar 2023 18:31:52 GMT        denise86@example.net      web   \n",
       "\n",
       "  registration_type                               user_id  \n",
       "0            google  2e0f6bb8-b029-4f45-a786-2b53990d37f1  \n",
       "1             email  f007f97c-9d8b-48b5-af08-119bb8f6d9b6  \n",
       "2             apple  24ff46ae-32b3-4a74-8f27-7cf0b8f32f15  \n",
       "3             email  3e9914e1-5d73-4c23-b25d-b59a3aeb2b60  \n",
       "4            google  27f875fc-f8ce-4aeb-8722-0ecb283d0760  "
      ]
     },
     "execution_count": 29,
     "metadata": {},
     "output_type": "execute_result"
    }
   ],
   "source": [
    "registrations.head()"
   ]
  },
  {
   "cell_type": "code",
   "execution_count": 33,
   "id": "eb5a4548",
   "metadata": {},
   "outputs": [
    {
     "data": {
      "text/plain": [
       "(21836, 5)"
      ]
     },
     "execution_count": 33,
     "metadata": {},
     "output_type": "execute_result"
    }
   ],
   "source": [
    "registrations.shape"
   ]
  },
  {
   "cell_type": "code",
   "execution_count": 34,
   "id": "84ffb4fa",
   "metadata": {},
   "outputs": [
    {
     "data": {
      "text/html": [
       "<div>\n",
       "<style scoped>\n",
       "    .dataframe tbody tr th:only-of-type {\n",
       "        vertical-align: middle;\n",
       "    }\n",
       "\n",
       "    .dataframe tbody tr th {\n",
       "        vertical-align: top;\n",
       "    }\n",
       "\n",
       "    .dataframe thead th {\n",
       "        text-align: right;\n",
       "    }\n",
       "</style>\n",
       "<table border=\"1\" class=\"dataframe\">\n",
       "  <thead>\n",
       "    <tr style=\"text-align: right;\">\n",
       "      <th></th>\n",
       "      <th>datetime</th>\n",
       "      <th>email</th>\n",
       "      <th>platform</th>\n",
       "      <th>registration_type</th>\n",
       "      <th>user_id</th>\n",
       "    </tr>\n",
       "  </thead>\n",
       "  <tbody>\n",
       "    <tr>\n",
       "      <th>count</th>\n",
       "      <td>21836</td>\n",
       "      <td>21836</td>\n",
       "      <td>21836</td>\n",
       "      <td>21836</td>\n",
       "      <td>21836</td>\n",
       "    </tr>\n",
       "    <tr>\n",
       "      <th>unique</th>\n",
       "      <td>21821</td>\n",
       "      <td>20868</td>\n",
       "      <td>3</td>\n",
       "      <td>4</td>\n",
       "      <td>21836</td>\n",
       "    </tr>\n",
       "    <tr>\n",
       "      <th>top</th>\n",
       "      <td>Fri, 23 Jun 2023 13:10:45 GMT</td>\n",
       "      <td>ujones@example.com</td>\n",
       "      <td>android</td>\n",
       "      <td>email</td>\n",
       "      <td>2e0f6bb8-b029-4f45-a786-2b53990d37f1</td>\n",
       "    </tr>\n",
       "    <tr>\n",
       "      <th>freq</th>\n",
       "      <td>2</td>\n",
       "      <td>6</td>\n",
       "      <td>10582</td>\n",
       "      <td>8996</td>\n",
       "      <td>1</td>\n",
       "    </tr>\n",
       "  </tbody>\n",
       "</table>\n",
       "</div>"
      ],
      "text/plain": [
       "                             datetime               email platform  \\\n",
       "count                           21836               21836    21836   \n",
       "unique                          21821               20868        3   \n",
       "top     Fri, 23 Jun 2023 13:10:45 GMT  ujones@example.com  android   \n",
       "freq                                2                   6    10582   \n",
       "\n",
       "       registration_type                               user_id  \n",
       "count              21836                                 21836  \n",
       "unique                 4                                 21836  \n",
       "top                email  2e0f6bb8-b029-4f45-a786-2b53990d37f1  \n",
       "freq                8996                                     1  "
      ]
     },
     "execution_count": 34,
     "metadata": {},
     "output_type": "execute_result"
    }
   ],
   "source": [
    "registrations.describe()"
   ]
  },
  {
   "cell_type": "code",
   "execution_count": null,
   "id": "9cb86aa6",
   "metadata": {},
   "outputs": [],
   "source": []
  },
  {
   "cell_type": "code",
   "execution_count": null,
   "id": "d3e8ad64",
   "metadata": {},
   "outputs": [],
   "source": []
  },
  {
   "cell_type": "code",
   "execution_count": null,
   "id": "85349033",
   "metadata": {},
   "outputs": [],
   "source": []
  },
  {
   "cell_type": "code",
   "execution_count": null,
   "id": "955d2618",
   "metadata": {},
   "outputs": [],
   "source": []
  },
  {
   "cell_type": "code",
   "execution_count": null,
   "id": "41a32cf3",
   "metadata": {},
   "outputs": [],
   "source": []
  },
  {
   "cell_type": "code",
   "execution_count": null,
   "id": "16b9233a",
   "metadata": {},
   "outputs": [],
   "source": []
  },
  {
   "cell_type": "code",
   "execution_count": null,
   "id": "a5f868e7",
   "metadata": {},
   "outputs": [],
   "source": []
  },
  {
   "cell_type": "code",
   "execution_count": null,
   "id": "e48cb5a0",
   "metadata": {},
   "outputs": [],
   "source": []
  }
 ],
 "metadata": {
  "kernelspec": {
   "display_name": "Python 3 (ipykernel)",
   "language": "python",
   "name": "python3"
  },
  "language_info": {
   "codemirror_mode": {
    "name": "ipython",
    "version": 3
   },
   "file_extension": ".py",
   "mimetype": "text/x-python",
   "name": "python",
   "nbconvert_exporter": "python",
   "pygments_lexer": "ipython3",
   "version": "3.11.5"
  }
 },
 "nbformat": 4,
 "nbformat_minor": 5
}
