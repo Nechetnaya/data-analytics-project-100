{
 "cells": [
  {
   "cell_type": "code",
   "execution_count": 1,
   "id": "3a29fd0c",
   "metadata": {},
   "outputs": [],
   "source": [
    "import pandas as pd\n",
    "import requests"
   ]
  },
  {
   "cell_type": "markdown",
   "id": "16bdb6d4",
   "metadata": {},
   "source": [
    "# Считаем конверсию регистрации"
   ]
  },
  {
   "cell_type": "markdown",
   "id": "8656fbf2",
   "metadata": {},
   "source": [
    "## Загрузка данных"
   ]
  },
  {
   "cell_type": "code",
   "execution_count": 19,
   "id": "47c91229",
   "metadata": {},
   "outputs": [],
   "source": [
    "r = requests.get('https://data-charts-api.hexlet.app/visits?begin=2023-03-01&end=2023-09-01')"
   ]
  },
  {
   "cell_type": "code",
   "execution_count": 21,
   "id": "4f714311",
   "metadata": {
    "scrolled": true
   },
   "outputs": [
    {
     "data": {
      "text/plain": [
       "200"
      ]
     },
     "execution_count": 21,
     "metadata": {},
     "output_type": "execute_result"
    }
   ],
   "source": [
    "r.status_code"
   ]
  },
  {
   "cell_type": "code",
   "execution_count": 24,
   "id": "f8d658ca",
   "metadata": {},
   "outputs": [],
   "source": [
    "visits = pd.DataFrame(r.json())"
   ]
  },
  {
   "cell_type": "code",
   "execution_count": 30,
   "id": "f28d24bb",
   "metadata": {},
   "outputs": [
    {
     "data": {
      "text/plain": [
       "(263459, 4)"
      ]
     },
     "execution_count": 30,
     "metadata": {},
     "output_type": "execute_result"
    }
   ],
   "source": [
    "visits.shape"
   ]
  },
  {
   "cell_type": "code",
   "execution_count": 32,
   "id": "a1abcaaa",
   "metadata": {},
   "outputs": [
    {
     "data": {
      "text/html": [
       "<div>\n",
       "<style scoped>\n",
       "    .dataframe tbody tr th:only-of-type {\n",
       "        vertical-align: middle;\n",
       "    }\n",
       "\n",
       "    .dataframe tbody tr th {\n",
       "        vertical-align: top;\n",
       "    }\n",
       "\n",
       "    .dataframe thead th {\n",
       "        text-align: right;\n",
       "    }\n",
       "</style>\n",
       "<table border=\"1\" class=\"dataframe\">\n",
       "  <thead>\n",
       "    <tr style=\"text-align: right;\">\n",
       "      <th></th>\n",
       "      <th>datetime</th>\n",
       "      <th>platform</th>\n",
       "      <th>user_agent</th>\n",
       "      <th>visit_id</th>\n",
       "    </tr>\n",
       "  </thead>\n",
       "  <tbody>\n",
       "    <tr>\n",
       "      <th>count</th>\n",
       "      <td>263459</td>\n",
       "      <td>263459</td>\n",
       "      <td>263459</td>\n",
       "      <td>263459</td>\n",
       "    </tr>\n",
       "    <tr>\n",
       "      <th>unique</th>\n",
       "      <td>261204</td>\n",
       "      <td>4</td>\n",
       "      <td>32</td>\n",
       "      <td>146085</td>\n",
       "    </tr>\n",
       "    <tr>\n",
       "      <th>top</th>\n",
       "      <td>Thu, 06 Jul 2023 10:45:50 GMT</td>\n",
       "      <td>web</td>\n",
       "      <td>Mozilla/5.0 (X11; Ubuntu; Linux x86_64; rv:109...</td>\n",
       "      <td>64167edd-323a-4ab0-be9b-acd237a1ac30</td>\n",
       "    </tr>\n",
       "    <tr>\n",
       "      <th>freq</th>\n",
       "      <td>3</td>\n",
       "      <td>236301</td>\n",
       "      <td>13623</td>\n",
       "      <td>4</td>\n",
       "    </tr>\n",
       "  </tbody>\n",
       "</table>\n",
       "</div>"
      ],
      "text/plain": [
       "                             datetime platform  \\\n",
       "count                          263459   263459   \n",
       "unique                         261204        4   \n",
       "top     Thu, 06 Jul 2023 10:45:50 GMT      web   \n",
       "freq                                3   236301   \n",
       "\n",
       "                                               user_agent  \\\n",
       "count                                              263459   \n",
       "unique                                                 32   \n",
       "top     Mozilla/5.0 (X11; Ubuntu; Linux x86_64; rv:109...   \n",
       "freq                                                13623   \n",
       "\n",
       "                                    visit_id  \n",
       "count                                 263459  \n",
       "unique                                146085  \n",
       "top     64167edd-323a-4ab0-be9b-acd237a1ac30  \n",
       "freq                                       4  "
      ]
     },
     "execution_count": 32,
     "metadata": {},
     "output_type": "execute_result"
    }
   ],
   "source": [
    "visits.describe()"
   ]
  },
  {
   "cell_type": "code",
   "execution_count": 26,
   "id": "6ce911f0",
   "metadata": {},
   "outputs": [],
   "source": [
    "r = requests.get('https://data-charts-api.hexlet.app/registrations?begin=2023-03-01&end=2023-09-01')"
   ]
  },
  {
   "cell_type": "code",
   "execution_count": 27,
   "id": "edb69d2c",
   "metadata": {},
   "outputs": [
    {
     "data": {
      "text/plain": [
       "200"
      ]
     },
     "execution_count": 27,
     "metadata": {},
     "output_type": "execute_result"
    }
   ],
   "source": [
    "r.status_code"
   ]
  },
  {
   "cell_type": "code",
   "execution_count": 28,
   "id": "a03a675d",
   "metadata": {},
   "outputs": [],
   "source": [
    "registrations = pd.DataFrame(r.json())"
   ]
  },
  {
   "cell_type": "code",
   "execution_count": 29,
   "id": "9da0af9d",
   "metadata": {},
   "outputs": [
    {
     "data": {
      "text/html": [
       "<div>\n",
       "<style scoped>\n",
       "    .dataframe tbody tr th:only-of-type {\n",
       "        vertical-align: middle;\n",
       "    }\n",
       "\n",
       "    .dataframe tbody tr th {\n",
       "        vertical-align: top;\n",
       "    }\n",
       "\n",
       "    .dataframe thead th {\n",
       "        text-align: right;\n",
       "    }\n",
       "</style>\n",
       "<table border=\"1\" class=\"dataframe\">\n",
       "  <thead>\n",
       "    <tr style=\"text-align: right;\">\n",
       "      <th></th>\n",
       "      <th>datetime</th>\n",
       "      <th>email</th>\n",
       "      <th>platform</th>\n",
       "      <th>registration_type</th>\n",
       "      <th>user_id</th>\n",
       "    </tr>\n",
       "  </thead>\n",
       "  <tbody>\n",
       "    <tr>\n",
       "      <th>0</th>\n",
       "      <td>Wed, 01 Mar 2023 07:40:13 GMT</td>\n",
       "      <td>ebyrd@example.org</td>\n",
       "      <td>web</td>\n",
       "      <td>google</td>\n",
       "      <td>2e0f6bb8-b029-4f45-a786-2b53990d37f1</td>\n",
       "    </tr>\n",
       "    <tr>\n",
       "      <th>1</th>\n",
       "      <td>Wed, 01 Mar 2023 13:14:00 GMT</td>\n",
       "      <td>knightgerald@example.org</td>\n",
       "      <td>web</td>\n",
       "      <td>email</td>\n",
       "      <td>f007f97c-9d8b-48b5-af08-119bb8f6d9b6</td>\n",
       "    </tr>\n",
       "    <tr>\n",
       "      <th>2</th>\n",
       "      <td>Wed, 01 Mar 2023 03:05:50 GMT</td>\n",
       "      <td>cherylthompson@example.com</td>\n",
       "      <td>web</td>\n",
       "      <td>apple</td>\n",
       "      <td>24ff46ae-32b3-4a74-8f27-7cf0b8f32f15</td>\n",
       "    </tr>\n",
       "    <tr>\n",
       "      <th>3</th>\n",
       "      <td>Wed, 01 Mar 2023 00:04:47 GMT</td>\n",
       "      <td>halldavid@example.org</td>\n",
       "      <td>web</td>\n",
       "      <td>email</td>\n",
       "      <td>3e9914e1-5d73-4c23-b25d-b59a3aeb2b60</td>\n",
       "    </tr>\n",
       "    <tr>\n",
       "      <th>4</th>\n",
       "      <td>Wed, 01 Mar 2023 18:31:52 GMT</td>\n",
       "      <td>denise86@example.net</td>\n",
       "      <td>web</td>\n",
       "      <td>google</td>\n",
       "      <td>27f875fc-f8ce-4aeb-8722-0ecb283d0760</td>\n",
       "    </tr>\n",
       "  </tbody>\n",
       "</table>\n",
       "</div>"
      ],
      "text/plain": [
       "                        datetime                       email platform  \\\n",
       "0  Wed, 01 Mar 2023 07:40:13 GMT           ebyrd@example.org      web   \n",
       "1  Wed, 01 Mar 2023 13:14:00 GMT    knightgerald@example.org      web   \n",
       "2  Wed, 01 Mar 2023 03:05:50 GMT  cherylthompson@example.com      web   \n",
       "3  Wed, 01 Mar 2023 00:04:47 GMT       halldavid@example.org      web   \n",
       "4  Wed, 01 Mar 2023 18:31:52 GMT        denise86@example.net      web   \n",
       "\n",
       "  registration_type                               user_id  \n",
       "0            google  2e0f6bb8-b029-4f45-a786-2b53990d37f1  \n",
       "1             email  f007f97c-9d8b-48b5-af08-119bb8f6d9b6  \n",
       "2             apple  24ff46ae-32b3-4a74-8f27-7cf0b8f32f15  \n",
       "3             email  3e9914e1-5d73-4c23-b25d-b59a3aeb2b60  \n",
       "4            google  27f875fc-f8ce-4aeb-8722-0ecb283d0760  "
      ]
     },
     "execution_count": 29,
     "metadata": {},
     "output_type": "execute_result"
    }
   ],
   "source": [
    "registrations.head()"
   ]
  },
  {
   "cell_type": "code",
   "execution_count": 33,
   "id": "e9620f82",
   "metadata": {},
   "outputs": [
    {
     "data": {
      "text/plain": [
       "(21836, 5)"
      ]
     },
     "execution_count": 33,
     "metadata": {},
     "output_type": "execute_result"
    }
   ],
   "source": [
    "registrations.shape"
   ]
  },
  {
   "cell_type": "code",
   "execution_count": 34,
   "id": "d5e54177",
   "metadata": {
    "scrolled": true
   },
   "outputs": [
    {
     "data": {
      "text/html": [
       "<div>\n",
       "<style scoped>\n",
       "    .dataframe tbody tr th:only-of-type {\n",
       "        vertical-align: middle;\n",
       "    }\n",
       "\n",
       "    .dataframe tbody tr th {\n",
       "        vertical-align: top;\n",
       "    }\n",
       "\n",
       "    .dataframe thead th {\n",
       "        text-align: right;\n",
       "    }\n",
       "</style>\n",
       "<table border=\"1\" class=\"dataframe\">\n",
       "  <thead>\n",
       "    <tr style=\"text-align: right;\">\n",
       "      <th></th>\n",
       "      <th>datetime</th>\n",
       "      <th>email</th>\n",
       "      <th>platform</th>\n",
       "      <th>registration_type</th>\n",
       "      <th>user_id</th>\n",
       "    </tr>\n",
       "  </thead>\n",
       "  <tbody>\n",
       "    <tr>\n",
       "      <th>count</th>\n",
       "      <td>21836</td>\n",
       "      <td>21836</td>\n",
       "      <td>21836</td>\n",
       "      <td>21836</td>\n",
       "      <td>21836</td>\n",
       "    </tr>\n",
       "    <tr>\n",
       "      <th>unique</th>\n",
       "      <td>21821</td>\n",
       "      <td>20868</td>\n",
       "      <td>3</td>\n",
       "      <td>4</td>\n",
       "      <td>21836</td>\n",
       "    </tr>\n",
       "    <tr>\n",
       "      <th>top</th>\n",
       "      <td>Fri, 23 Jun 2023 13:10:45 GMT</td>\n",
       "      <td>ujones@example.com</td>\n",
       "      <td>android</td>\n",
       "      <td>email</td>\n",
       "      <td>2e0f6bb8-b029-4f45-a786-2b53990d37f1</td>\n",
       "    </tr>\n",
       "    <tr>\n",
       "      <th>freq</th>\n",
       "      <td>2</td>\n",
       "      <td>6</td>\n",
       "      <td>10582</td>\n",
       "      <td>8996</td>\n",
       "      <td>1</td>\n",
       "    </tr>\n",
       "  </tbody>\n",
       "</table>\n",
       "</div>"
      ],
      "text/plain": [
       "                             datetime               email platform  \\\n",
       "count                           21836               21836    21836   \n",
       "unique                          21821               20868        3   \n",
       "top     Fri, 23 Jun 2023 13:10:45 GMT  ujones@example.com  android   \n",
       "freq                                2                   6    10582   \n",
       "\n",
       "       registration_type                               user_id  \n",
       "count              21836                                 21836  \n",
       "unique                 4                                 21836  \n",
       "top                email  2e0f6bb8-b029-4f45-a786-2b53990d37f1  \n",
       "freq                8996                                     1  "
      ]
     },
     "execution_count": 34,
     "metadata": {},
     "output_type": "execute_result"
    }
   ],
   "source": [
    "registrations.describe()"
   ]
  },
  {
   "cell_type": "markdown",
   "id": "6c925831",
   "metadata": {},
   "source": [
    "## Предобработка данных"
   ]
  },
  {
   "cell_type": "code",
   "execution_count": 37,
   "id": "d9f4fed3",
   "metadata": {},
   "outputs": [
    {
     "data": {
      "text/plain": [
       "datetime      0\n",
       "platform      0\n",
       "user_agent    0\n",
       "visit_id      0\n",
       "dtype: int64"
      ]
     },
     "execution_count": 37,
     "metadata": {},
     "output_type": "execute_result"
    }
   ],
   "source": [
    "# провека на пропуски\n",
    "visits.isna().sum()"
   ]
  },
  {
   "cell_type": "code",
   "execution_count": 44,
   "id": "2e3183a4",
   "metadata": {},
   "outputs": [],
   "source": [
    "# удаление дубликотов\n",
    "visits = visits.drop_duplicates(subset='visit_id', keep='last')"
   ]
  },
  {
   "cell_type": "code",
   "execution_count": 69,
   "id": "b59e2e7d",
   "metadata": {},
   "outputs": [],
   "source": [
    "# удаление посещения ботами\n",
    "bot_visits_mask = visits.user_agent.str.contains(pat='bot', case=False)\n",
    "visits_clean = visits[~bot_visits_mask]"
   ]
  },
  {
   "cell_type": "code",
   "execution_count": 79,
   "id": "6899ef1e",
   "metadata": {
    "scrolled": true
   },
   "outputs": [
    {
     "data": {
      "text/plain": [
       "(138703, 4)"
      ]
     },
     "execution_count": 79,
     "metadata": {},
     "output_type": "execute_result"
    }
   ],
   "source": [
    "visits_clean.shape"
   ]
  },
  {
   "cell_type": "code",
   "execution_count": 81,
   "id": "c9c3da2e",
   "metadata": {},
   "outputs": [
    {
     "data": {
      "text/plain": [
       "datetime             0\n",
       "email                0\n",
       "platform             0\n",
       "registration_type    0\n",
       "user_id              0\n",
       "dtype: int64"
      ]
     },
     "execution_count": 81,
     "metadata": {},
     "output_type": "execute_result"
    }
   ],
   "source": [
    "registrations.isna().sum()"
   ]
  },
  {
   "cell_type": "code",
   "execution_count": 82,
   "id": "7d601d22",
   "metadata": {},
   "outputs": [
    {
     "data": {
      "text/plain": [
       "0"
      ]
     },
     "execution_count": 82,
     "metadata": {},
     "output_type": "execute_result"
    }
   ],
   "source": [
    "registrations.duplicated(subset='user_id').sum()"
   ]
  },
  {
   "cell_type": "code",
   "execution_count": 188,
   "id": "cbf4108c",
   "metadata": {},
   "outputs": [
    {
     "data": {
      "text/html": [
       "<div>\n",
       "<style scoped>\n",
       "    .dataframe tbody tr th:only-of-type {\n",
       "        vertical-align: middle;\n",
       "    }\n",
       "\n",
       "    .dataframe tbody tr th {\n",
       "        vertical-align: top;\n",
       "    }\n",
       "\n",
       "    .dataframe thead th {\n",
       "        text-align: right;\n",
       "    }\n",
       "</style>\n",
       "<table border=\"1\" class=\"dataframe\">\n",
       "  <thead>\n",
       "    <tr style=\"text-align: right;\">\n",
       "      <th></th>\n",
       "      <th>datetime</th>\n",
       "      <th>platform</th>\n",
       "      <th>user_agent</th>\n",
       "      <th>visit_id</th>\n",
       "    </tr>\n",
       "  </thead>\n",
       "  <tbody>\n",
       "    <tr>\n",
       "      <th>0</th>\n",
       "      <td>Wed, 01 Mar 2023 10:36:22 GMT</td>\n",
       "      <td>web</td>\n",
       "      <td>Mozilla/5.0 (Windows NT 10.0; Win64; x64) Appl...</td>\n",
       "      <td>1de9ea66-70d3-4a1f-8735-df5ef7697fb9</td>\n",
       "    </tr>\n",
       "    <tr>\n",
       "      <th>1</th>\n",
       "      <td>Wed, 01 Mar 2023 06:25:00 GMT</td>\n",
       "      <td>web</td>\n",
       "      <td>Mozilla/5.0 (Windows NT 10.0; WOW64; Trident/7...</td>\n",
       "      <td>f149f542-e935-4870-9734-6b4501eaf614</td>\n",
       "    </tr>\n",
       "    <tr>\n",
       "      <th>2</th>\n",
       "      <td>Wed, 01 Mar 2023 10:26:13 GMT</td>\n",
       "      <td>web</td>\n",
       "      <td>Mozilla/5.0 (Macintosh; Intel Mac OS X 10_11_2...</td>\n",
       "      <td>08f0ebd4-950c-4dd9-8e97-b5bdf073eed1</td>\n",
       "    </tr>\n",
       "    <tr>\n",
       "      <th>3</th>\n",
       "      <td>Wed, 01 Mar 2023 12:33:06 GMT</td>\n",
       "      <td>web</td>\n",
       "      <td>Mozilla/5.0 (Macintosh; Intel Mac OS X 10_15_7...</td>\n",
       "      <td>19322fed-157c-49c6-b16e-2d5cabeb9592</td>\n",
       "    </tr>\n",
       "    <tr>\n",
       "      <th>4</th>\n",
       "      <td>Wed, 01 Mar 2023 01:38:35 GMT</td>\n",
       "      <td>web</td>\n",
       "      <td>Mozilla/5.0 (Windows NT 10.0; Win64; x64) Appl...</td>\n",
       "      <td>04762a22-3c9f-40c9-9ac9-6628c4381836</td>\n",
       "    </tr>\n",
       "  </tbody>\n",
       "</table>\n",
       "</div>"
      ],
      "text/plain": [
       "                        datetime platform  \\\n",
       "0  Wed, 01 Mar 2023 10:36:22 GMT      web   \n",
       "1  Wed, 01 Mar 2023 06:25:00 GMT      web   \n",
       "2  Wed, 01 Mar 2023 10:26:13 GMT      web   \n",
       "3  Wed, 01 Mar 2023 12:33:06 GMT      web   \n",
       "4  Wed, 01 Mar 2023 01:38:35 GMT      web   \n",
       "\n",
       "                                          user_agent  \\\n",
       "0  Mozilla/5.0 (Windows NT 10.0; Win64; x64) Appl...   \n",
       "1  Mozilla/5.0 (Windows NT 10.0; WOW64; Trident/7...   \n",
       "2  Mozilla/5.0 (Macintosh; Intel Mac OS X 10_11_2...   \n",
       "3  Mozilla/5.0 (Macintosh; Intel Mac OS X 10_15_7...   \n",
       "4  Mozilla/5.0 (Windows NT 10.0; Win64; x64) Appl...   \n",
       "\n",
       "                               visit_id  \n",
       "0  1de9ea66-70d3-4a1f-8735-df5ef7697fb9  \n",
       "1  f149f542-e935-4870-9734-6b4501eaf614  \n",
       "2  08f0ebd4-950c-4dd9-8e97-b5bdf073eed1  \n",
       "3  19322fed-157c-49c6-b16e-2d5cabeb9592  \n",
       "4  04762a22-3c9f-40c9-9ac9-6628c4381836  "
      ]
     },
     "execution_count": 188,
     "metadata": {},
     "output_type": "execute_result"
    }
   ],
   "source": [
    "visits_clean.head()"
   ]
  },
  {
   "cell_type": "code",
   "execution_count": 191,
   "id": "0c458842",
   "metadata": {
    "collapsed": true
   },
   "outputs": [
    {
     "name": "stderr",
     "output_type": "stream",
     "text": [
      "/var/folders/w6/n_fcyv095mx312wbmf2httjc0000gn/T/ipykernel_3509/3799235007.py:1: SettingWithCopyWarning: \n",
      "A value is trying to be set on a copy of a slice from a DataFrame.\n",
      "Try using .loc[row_indexer,col_indexer] = value instead\n",
      "\n",
      "See the caveats in the documentation: https://pandas.pydata.org/pandas-docs/stable/user_guide/indexing.html#returning-a-view-versus-a-copy\n",
      "  visits_clean['datetime'] = pd.to_datetime(visits_clean['datetime'])\n"
     ]
    }
   ],
   "source": [
    "#приведение даты к формату дейттайм\n",
    "visits_clean['datetime'] = pd.to_datetime(visits_clean['datetime'])"
   ]
  },
  {
   "cell_type": "code",
   "execution_count": 194,
   "id": "2ad0f80f",
   "metadata": {
    "collapsed": true
   },
   "outputs": [
    {
     "name": "stderr",
     "output_type": "stream",
     "text": [
      "/var/folders/w6/n_fcyv095mx312wbmf2httjc0000gn/T/ipykernel_3509/3737517942.py:1: SettingWithCopyWarning: \n",
      "A value is trying to be set on a copy of a slice from a DataFrame.\n",
      "Try using .loc[row_indexer,col_indexer] = value instead\n",
      "\n",
      "See the caveats in the documentation: https://pandas.pydata.org/pandas-docs/stable/user_guide/indexing.html#returning-a-view-versus-a-copy\n",
      "  visits_clean['date'] = pd.to_datetime(visits_clean.datetime.dt.date)\n"
     ]
    }
   ],
   "source": [
    "#выделние даты из даты+время \n",
    "visits_clean['date'] = pd.to_datetime(visits_clean.datetime.dt.date)"
   ]
  },
  {
   "cell_type": "code",
   "execution_count": 127,
   "id": "16e37b6b",
   "metadata": {},
   "outputs": [],
   "source": [
    "registrations['datetime'] = pd.to_datetime(registrations['datetime'])"
   ]
  },
  {
   "cell_type": "code",
   "execution_count": 132,
   "id": "0f985a2e",
   "metadata": {},
   "outputs": [],
   "source": [
    "registrations['date'] = pd.to_datetime(registrations.datetime.dt.date)"
   ]
  },
  {
   "cell_type": "markdown",
   "id": "6c236e76",
   "metadata": {},
   "source": [
    "## Агрегация данных по дате и платформе"
   ]
  },
  {
   "cell_type": "code",
   "execution_count": 196,
   "id": "09478a49",
   "metadata": {},
   "outputs": [],
   "source": [
    "visits_count = visits_clean \\\n",
    "    .groupby(['date', 'platform'], as_index=False) \\\n",
    "    .agg(visits=('visit_id', 'count'))"
   ]
  },
  {
   "cell_type": "code",
   "execution_count": 136,
   "id": "e33174ad",
   "metadata": {},
   "outputs": [],
   "source": [
    "registrations_count = registrations \\\n",
    "    .groupby(['date', 'platform'], as_index=False) \\\n",
    "    .agg(registrations=('user_id', 'count'))"
   ]
  },
  {
   "cell_type": "markdown",
   "id": "73089648",
   "metadata": {},
   "source": [
    "## Объединение датафреймов по дате и платформе и подсчет конверсии"
   ]
  },
  {
   "cell_type": "code",
   "execution_count": 203,
   "id": "7ae95946",
   "metadata": {},
   "outputs": [],
   "source": [
    "conversion = visits_count \\\n",
    "    .merge(registrations_count, how='left', on=['date', 'platform']) \\\n",
    "    .rename(columns={'date': 'date_group'})"
   ]
  },
  {
   "cell_type": "code",
   "execution_count": 206,
   "id": "3a987133",
   "metadata": {},
   "outputs": [],
   "source": [
    "conversion['conversion'] = conversion.registrations / conversion.visits * 100"
   ]
  },
  {
   "cell_type": "code",
   "execution_count": 207,
   "id": "31228c3e",
   "metadata": {},
   "outputs": [],
   "source": [
    "conversion = conversion.sort_values('date_group')"
   ]
  },
  {
   "cell_type": "code",
   "execution_count": 209,
   "id": "c99fd726",
   "metadata": {},
   "outputs": [
    {
     "data": {
      "text/html": [
       "<div>\n",
       "<style scoped>\n",
       "    .dataframe tbody tr th:only-of-type {\n",
       "        vertical-align: middle;\n",
       "    }\n",
       "\n",
       "    .dataframe tbody tr th {\n",
       "        vertical-align: top;\n",
       "    }\n",
       "\n",
       "    .dataframe thead th {\n",
       "        text-align: right;\n",
       "    }\n",
       "</style>\n",
       "<table border=\"1\" class=\"dataframe\">\n",
       "  <thead>\n",
       "    <tr style=\"text-align: right;\">\n",
       "      <th></th>\n",
       "      <th>date_group</th>\n",
       "      <th>platform</th>\n",
       "      <th>visits</th>\n",
       "      <th>registrations</th>\n",
       "      <th>conversion</th>\n",
       "    </tr>\n",
       "  </thead>\n",
       "  <tbody>\n",
       "    <tr>\n",
       "      <th>0</th>\n",
       "      <td>2023-03-01</td>\n",
       "      <td>android</td>\n",
       "      <td>75</td>\n",
       "      <td>61</td>\n",
       "      <td>81.333333</td>\n",
       "    </tr>\n",
       "    <tr>\n",
       "      <th>1</th>\n",
       "      <td>2023-03-01</td>\n",
       "      <td>ios</td>\n",
       "      <td>22</td>\n",
       "      <td>18</td>\n",
       "      <td>81.818182</td>\n",
       "    </tr>\n",
       "    <tr>\n",
       "      <th>2</th>\n",
       "      <td>2023-03-01</td>\n",
       "      <td>web</td>\n",
       "      <td>787</td>\n",
       "      <td>8</td>\n",
       "      <td>1.016518</td>\n",
       "    </tr>\n",
       "    <tr>\n",
       "      <th>3</th>\n",
       "      <td>2023-03-02</td>\n",
       "      <td>android</td>\n",
       "      <td>67</td>\n",
       "      <td>59</td>\n",
       "      <td>88.059701</td>\n",
       "    </tr>\n",
       "    <tr>\n",
       "      <th>4</th>\n",
       "      <td>2023-03-02</td>\n",
       "      <td>ios</td>\n",
       "      <td>31</td>\n",
       "      <td>24</td>\n",
       "      <td>77.419355</td>\n",
       "    </tr>\n",
       "  </tbody>\n",
       "</table>\n",
       "</div>"
      ],
      "text/plain": [
       "  date_group platform  visits  registrations  conversion\n",
       "0 2023-03-01  android      75             61   81.333333\n",
       "1 2023-03-01      ios      22             18   81.818182\n",
       "2 2023-03-01      web     787              8    1.016518\n",
       "3 2023-03-02  android      67             59   88.059701\n",
       "4 2023-03-02      ios      31             24   77.419355"
      ]
     },
     "execution_count": 209,
     "metadata": {},
     "output_type": "execute_result"
    }
   ],
   "source": [
    "conversion.head()"
   ]
  },
  {
   "cell_type": "markdown",
   "id": "8dca3d0a",
   "metadata": {},
   "source": [
    "## Запись полученных данных"
   ]
  },
  {
   "cell_type": "code",
   "execution_count": 211,
   "id": "a024f82e",
   "metadata": {},
   "outputs": [],
   "source": [
    "conversion.to_json('./conversion.json')"
   ]
  },
  {
   "cell_type": "markdown",
   "id": "16fd14e9",
   "metadata": {},
   "source": [
    "# Добавляем рекламные кампании"
   ]
  },
  {
   "cell_type": "code",
   "execution_count": 237,
   "id": "34763878",
   "metadata": {},
   "outputs": [],
   "source": [
    "ads = pd.read_csv('ads.csv')"
   ]
  },
  {
   "cell_type": "code",
   "execution_count": 229,
   "id": "2ffc570a",
   "metadata": {},
   "outputs": [
    {
     "name": "stdout",
     "output_type": "stream",
     "text": [
      "<class 'pandas.core.frame.DataFrame'>\n",
      "RangeIndex: 159 entries, 0 to 158\n",
      "Data columns (total 5 columns):\n",
      " #   Column        Non-Null Count  Dtype         \n",
      "---  ------        --------------  -----         \n",
      " 0   date          159 non-null    datetime64[ns]\n",
      " 1   utm_source    159 non-null    object        \n",
      " 2   utm_medium    159 non-null    object        \n",
      " 3   utm_campaign  159 non-null    object        \n",
      " 4   cost          159 non-null    int64         \n",
      "dtypes: datetime64[ns](1), int64(1), object(3)\n",
      "memory usage: 6.3+ KB\n"
     ]
    }
   ],
   "source": [
    "ads.info()"
   ]
  },
  {
   "cell_type": "code",
   "execution_count": 230,
   "id": "aa6a84ed",
   "metadata": {},
   "outputs": [
    {
     "data": {
      "text/plain": [
       "date            0\n",
       "utm_source      0\n",
       "utm_medium      0\n",
       "utm_campaign    0\n",
       "cost            0\n",
       "dtype: int64"
      ]
     },
     "execution_count": 230,
     "metadata": {},
     "output_type": "execute_result"
    }
   ],
   "source": [
    "ads.isna().sum()"
   ]
  },
  {
   "cell_type": "code",
   "execution_count": 231,
   "id": "576c1ee0",
   "metadata": {},
   "outputs": [
    {
     "data": {
      "text/plain": [
       "0"
      ]
     },
     "execution_count": 231,
     "metadata": {},
     "output_type": "execute_result"
    }
   ],
   "source": [
    "ads.duplicated().sum()"
   ]
  },
  {
   "cell_type": "code",
   "execution_count": 243,
   "id": "a2b03976",
   "metadata": {},
   "outputs": [],
   "source": [
    "ads['date_group'] = pd.to_datetime(ads.date).dt.floor('D')"
   ]
  },
  {
   "cell_type": "code",
   "execution_count": 250,
   "id": "7e541e61",
   "metadata": {},
   "outputs": [],
   "source": [
    "ads_short = ads[['date_group', 'cost', 'utm_campaign']]"
   ]
  },
  {
   "cell_type": "code",
   "execution_count": 259,
   "id": "9f2ddc0f",
   "metadata": {},
   "outputs": [],
   "source": [
    "conversion_short = conversion \\\n",
    "    .groupby('date_group', as_index=False) \\\n",
    "    .agg({'visits': 'sum', 'registrations': 'sum'})"
   ]
  },
  {
   "cell_type": "code",
   "execution_count": 260,
   "id": "fd033266",
   "metadata": {},
   "outputs": [
    {
     "data": {
      "text/html": [
       "<div>\n",
       "<style scoped>\n",
       "    .dataframe tbody tr th:only-of-type {\n",
       "        vertical-align: middle;\n",
       "    }\n",
       "\n",
       "    .dataframe tbody tr th {\n",
       "        vertical-align: top;\n",
       "    }\n",
       "\n",
       "    .dataframe thead th {\n",
       "        text-align: right;\n",
       "    }\n",
       "</style>\n",
       "<table border=\"1\" class=\"dataframe\">\n",
       "  <thead>\n",
       "    <tr style=\"text-align: right;\">\n",
       "      <th></th>\n",
       "      <th>date_group</th>\n",
       "      <th>visits</th>\n",
       "      <th>registrations</th>\n",
       "    </tr>\n",
       "  </thead>\n",
       "  <tbody>\n",
       "    <tr>\n",
       "      <th>0</th>\n",
       "      <td>2023-03-01</td>\n",
       "      <td>884</td>\n",
       "      <td>87</td>\n",
       "    </tr>\n",
       "    <tr>\n",
       "      <th>1</th>\n",
       "      <td>2023-03-02</td>\n",
       "      <td>1050</td>\n",
       "      <td>106</td>\n",
       "    </tr>\n",
       "    <tr>\n",
       "      <th>2</th>\n",
       "      <td>2023-03-03</td>\n",
       "      <td>1147</td>\n",
       "      <td>107</td>\n",
       "    </tr>\n",
       "    <tr>\n",
       "      <th>3</th>\n",
       "      <td>2023-03-04</td>\n",
       "      <td>1232</td>\n",
       "      <td>159</td>\n",
       "    </tr>\n",
       "    <tr>\n",
       "      <th>4</th>\n",
       "      <td>2023-03-05</td>\n",
       "      <td>1145</td>\n",
       "      <td>115</td>\n",
       "    </tr>\n",
       "  </tbody>\n",
       "</table>\n",
       "</div>"
      ],
      "text/plain": [
       "  date_group  visits  registrations\n",
       "0 2023-03-01     884             87\n",
       "1 2023-03-02    1050            106\n",
       "2 2023-03-03    1147            107\n",
       "3 2023-03-04    1232            159\n",
       "4 2023-03-05    1145            115"
      ]
     },
     "execution_count": 260,
     "metadata": {},
     "output_type": "execute_result"
    }
   ],
   "source": [
    "conversion_short.head()"
   ]
  },
  {
   "cell_type": "code",
   "execution_count": 262,
   "id": "62240e1e",
   "metadata": {},
   "outputs": [],
   "source": [
    "ads_conversion = conversion_short.merge(ads_short, how='left', on='date_group')"
   ]
  },
  {
   "cell_type": "code",
   "execution_count": 269,
   "id": "ac05a585",
   "metadata": {},
   "outputs": [],
   "source": [
    "ads_conversion = ads_conversion.fillna({'cost': 0, 'utm_campaign': 'none'})"
   ]
  },
  {
   "cell_type": "code",
   "execution_count": 270,
   "id": "42d996df",
   "metadata": {},
   "outputs": [],
   "source": [
    "ads_conversion.to_json('./ads.json')"
   ]
  },
  {
   "cell_type": "code",
   "execution_count": null,
   "id": "299e6ff2",
   "metadata": {},
   "outputs": [],
   "source": []
  },
  {
   "cell_type": "code",
   "execution_count": null,
   "id": "dcd44966",
   "metadata": {},
   "outputs": [],
   "source": []
  },
  {
   "cell_type": "code",
   "execution_count": null,
   "id": "ec462e23",
   "metadata": {},
   "outputs": [],
   "source": []
  },
  {
   "cell_type": "code",
   "execution_count": null,
   "id": "2caeb9d3",
   "metadata": {},
   "outputs": [],
   "source": []
  }
 ],
 "metadata": {
  "kernelspec": {
   "display_name": "Python 3 (ipykernel)",
   "language": "python",
   "name": "python3"
  },
  "language_info": {
   "codemirror_mode": {
    "name": "ipython",
    "version": 3
   },
   "file_extension": ".py",
   "mimetype": "text/x-python",
   "name": "python",
   "nbconvert_exporter": "python",
   "pygments_lexer": "ipython3",
   "version": "3.11.5"
  }
 },
 "nbformat": 4,
 "nbformat_minor": 5
}
